{
 "cells": [
  {
   "cell_type": "code",
   "execution_count": 1,
   "id": "07c7c3cb-2c11-4f2e-9f32-6792c585bb47",
   "metadata": {},
   "outputs": [],
   "source": [
    "import pandas as pd"
   ]
  },
  {
   "cell_type": "code",
   "execution_count": 9,
   "id": "5f8d2c9e-ee68-447c-967c-10009b68fc95",
   "metadata": {},
   "outputs": [],
   "source": [
    "df = pd.read_csv(\"Final.csv\")"
   ]
  },
  {
   "cell_type": "code",
   "execution_count": 11,
   "id": "ec91e3f3-c852-4514-be69-1447dd844869",
   "metadata": {},
   "outputs": [
    {
     "data": {
      "text/plain": [
       "Index(['Name', 'Age:', 'Hair Color:', 'Fake Boobs:', 'Piercings:',\n",
       "       'Background:', 'Height', 'Weight'],\n",
       "      dtype='object')"
      ]
     },
     "execution_count": 11,
     "metadata": {},
     "output_type": "execute_result"
    }
   ],
   "source": [
    "df.columns"
   ]
  },
  {
   "cell_type": "code",
   "execution_count": 13,
   "id": "f33e84e3-0ed9-4e79-878e-3a4b5af038e3",
   "metadata": {},
   "outputs": [],
   "source": []
  }
 ],
 "metadata": {
  "kernelspec": {
   "display_name": "Python 3 (ipykernel)",
   "language": "python",
   "name": "python3"
  },
  "language_info": {
   "codemirror_mode": {
    "name": "ipython",
    "version": 3
   },
   "file_extension": ".py",
   "mimetype": "text/x-python",
   "name": "python",
   "nbconvert_exporter": "python",
   "pygments_lexer": "ipython3",
   "version": "3.12.4"
  }
 },
 "nbformat": 4,
 "nbformat_minor": 5
}
