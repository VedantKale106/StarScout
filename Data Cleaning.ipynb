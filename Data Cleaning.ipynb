{
 "cells": [
  {
   "cell_type": "code",
   "execution_count": 1,
   "id": "4b3eb001-ceb4-43e4-a4d1-b75afc96027b",
   "metadata": {},
   "outputs": [],
   "source": [
    "import pandas as pd\n",
    "import numpy as np\n",
    "import re"
   ]
  },
  {
   "cell_type": "code",
   "execution_count": 3,
   "id": "29b75266-45d2-4f6b-82cc-16e0f3a634a1",
   "metadata": {},
   "outputs": [],
   "source": [
    "df = pd.read_csv(\"Details.csv\")\n",
    "\n",
    "features = [\n",
    "    'Name','Age:', 'Height:', 'Weight:', \n",
    "     'Hair Color:', 'Fake Boobs:', 'Piercings:',  \n",
    " 'Background:'\n",
    "]"
   ]
  },
  {
   "cell_type": "code",
   "execution_count": 5,
   "id": "6f5eb8ab-f34f-4f72-a957-8fdf6147c3f3",
   "metadata": {},
   "outputs": [],
   "source": [
    "df = df[features]"
   ]
  },
  {
   "cell_type": "code",
   "execution_count": 7,
   "id": "372c2e85-13c8-48e0-898d-bc74d78849bc",
   "metadata": {},
   "outputs": [
    {
     "data": {
      "text/html": [
       "<div>\n",
       "<style scoped>\n",
       "    .dataframe tbody tr th:only-of-type {\n",
       "        vertical-align: middle;\n",
       "    }\n",
       "\n",
       "    .dataframe tbody tr th {\n",
       "        vertical-align: top;\n",
       "    }\n",
       "\n",
       "    .dataframe thead th {\n",
       "        text-align: right;\n",
       "    }\n",
       "</style>\n",
       "<table border=\"1\" class=\"dataframe\">\n",
       "  <thead>\n",
       "    <tr style=\"text-align: right;\">\n",
       "      <th></th>\n",
       "      <th>Name</th>\n",
       "      <th>Age:</th>\n",
       "      <th>Height:</th>\n",
       "      <th>Weight:</th>\n",
       "      <th>Hair Color:</th>\n",
       "      <th>Fake Boobs:</th>\n",
       "      <th>Piercings:</th>\n",
       "      <th>Background:</th>\n",
       "    </tr>\n",
       "  </thead>\n",
       "  <tbody>\n",
       "    <tr>\n",
       "      <th>0</th>\n",
       "      <td>\"Lana Rhoades\"</td>\n",
       "      <td>23.0</td>\n",
       "      <td>5 ft 5 in (165 cm)</td>\n",
       "      <td>115 lbs (52 kg)</td>\n",
       "      <td>Brunette</td>\n",
       "      <td>No</td>\n",
       "      <td>NaN</td>\n",
       "      <td>American</td>\n",
       "    </tr>\n",
       "    <tr>\n",
       "      <th>1</th>\n",
       "      <td>\"Mia Khalifa\"</td>\n",
       "      <td>NaN</td>\n",
       "      <td>5 ft 2 in (157 cm)</td>\n",
       "      <td>121 lbs (55 kg)</td>\n",
       "      <td>NaN</td>\n",
       "      <td>NaN</td>\n",
       "      <td>NaN</td>\n",
       "      <td>NaN</td>\n",
       "    </tr>\n",
       "    <tr>\n",
       "      <th>2</th>\n",
       "      <td>\"Riley Reid\"</td>\n",
       "      <td>28.0</td>\n",
       "      <td>5 ft 4 in (163 cm)</td>\n",
       "      <td>108 lbs (49 kg)</td>\n",
       "      <td>Blonde, Brunette</td>\n",
       "      <td>No</td>\n",
       "      <td>NaN</td>\n",
       "      <td>American</td>\n",
       "    </tr>\n",
       "    <tr>\n",
       "      <th>3</th>\n",
       "      <td>\"Abella Danger\"</td>\n",
       "      <td>18.0</td>\n",
       "      <td>5 ft 4 in (163 cm)</td>\n",
       "      <td>130 lbs (59 kg)</td>\n",
       "      <td>Brunette</td>\n",
       "      <td>No</td>\n",
       "      <td>NaN</td>\n",
       "      <td>American</td>\n",
       "    </tr>\n",
       "    <tr>\n",
       "      <th>4</th>\n",
       "      <td>\"Maitland Ward\"</td>\n",
       "      <td>NaN</td>\n",
       "      <td>5 ft 10 in (178 cm)</td>\n",
       "      <td>130 lbs (59 kg)</td>\n",
       "      <td>NaN</td>\n",
       "      <td>NaN</td>\n",
       "      <td>NaN</td>\n",
       "      <td>NaN</td>\n",
       "    </tr>\n",
       "    <tr>\n",
       "      <th>...</th>\n",
       "      <td>...</td>\n",
       "      <td>...</td>\n",
       "      <td>...</td>\n",
       "      <td>...</td>\n",
       "      <td>...</td>\n",
       "      <td>...</td>\n",
       "      <td>...</td>\n",
       "      <td>...</td>\n",
       "    </tr>\n",
       "    <tr>\n",
       "      <th>11390</th>\n",
       "      <td>\"Maya Summers\"</td>\n",
       "      <td>NaN</td>\n",
       "      <td>NaN</td>\n",
       "      <td>NaN</td>\n",
       "      <td>NaN</td>\n",
       "      <td>NaN</td>\n",
       "      <td>NaN</td>\n",
       "      <td>NaN</td>\n",
       "    </tr>\n",
       "    <tr>\n",
       "      <th>11391</th>\n",
       "      <td>\"Kaira Paola\"</td>\n",
       "      <td>NaN</td>\n",
       "      <td>NaN</td>\n",
       "      <td>NaN</td>\n",
       "      <td>NaN</td>\n",
       "      <td>NaN</td>\n",
       "      <td>NaN</td>\n",
       "      <td>NaN</td>\n",
       "    </tr>\n",
       "    <tr>\n",
       "      <th>11392</th>\n",
       "      <td>\"Angelina Del Mar\"</td>\n",
       "      <td>NaN</td>\n",
       "      <td>NaN</td>\n",
       "      <td>NaN</td>\n",
       "      <td>NaN</td>\n",
       "      <td>NaN</td>\n",
       "      <td>NaN</td>\n",
       "      <td>NaN</td>\n",
       "    </tr>\n",
       "    <tr>\n",
       "      <th>11393</th>\n",
       "      <td>\"Judy Blond\"</td>\n",
       "      <td>NaN</td>\n",
       "      <td>\\n\\t\\t\\t\\t\\t\\t\\t5 ft 8 in (173 cm)</td>\n",
       "      <td>\\n\\t\\t\\t\\t\\t\\t\\t125 lbs (57 kg)</td>\n",
       "      <td>NaN</td>\n",
       "      <td>NaN</td>\n",
       "      <td>NaN</td>\n",
       "      <td>NaN</td>\n",
       "    </tr>\n",
       "    <tr>\n",
       "      <th>11394</th>\n",
       "      <td>\"Simone Schiffer\"</td>\n",
       "      <td>NaN</td>\n",
       "      <td>\\n\\t\\t\\t\\t\\t\\t\\t5 ft 8 in (173 cm)</td>\n",
       "      <td>NaN</td>\n",
       "      <td>NaN</td>\n",
       "      <td>NaN</td>\n",
       "      <td>NaN</td>\n",
       "      <td>NaN</td>\n",
       "    </tr>\n",
       "  </tbody>\n",
       "</table>\n",
       "<p>11395 rows × 8 columns</p>\n",
       "</div>"
      ],
      "text/plain": [
       "                      Name  Age:                             Height:  \\\n",
       "0          \"Lana Rhoades\"   23.0                  5 ft 5 in (165 cm)   \n",
       "1           \"Mia Khalifa\"    NaN                  5 ft 2 in (157 cm)   \n",
       "2            \"Riley Reid\"   28.0                  5 ft 4 in (163 cm)   \n",
       "3         \"Abella Danger\"   18.0                  5 ft 4 in (163 cm)   \n",
       "4         \"Maitland Ward\"    NaN                 5 ft 10 in (178 cm)   \n",
       "...                    ...   ...                                 ...   \n",
       "11390      \"Maya Summers\"    NaN                                 NaN   \n",
       "11391       \"Kaira Paola\"    NaN                                 NaN   \n",
       "11392  \"Angelina Del Mar\"    NaN                                 NaN   \n",
       "11393        \"Judy Blond\"    NaN  \\n\\t\\t\\t\\t\\t\\t\\t5 ft 8 in (173 cm)   \n",
       "11394   \"Simone Schiffer\"    NaN  \\n\\t\\t\\t\\t\\t\\t\\t5 ft 8 in (173 cm)   \n",
       "\n",
       "                               Weight:       Hair Color: Fake Boobs:  \\\n",
       "0                      115 lbs (52 kg)          Brunette          No   \n",
       "1                      121 lbs (55 kg)               NaN         NaN   \n",
       "2                      108 lbs (49 kg)  Blonde, Brunette          No   \n",
       "3                      130 lbs (59 kg)          Brunette          No   \n",
       "4                      130 lbs (59 kg)               NaN         NaN   \n",
       "...                                ...               ...         ...   \n",
       "11390                              NaN               NaN         NaN   \n",
       "11391                              NaN               NaN         NaN   \n",
       "11392                              NaN               NaN         NaN   \n",
       "11393  \\n\\t\\t\\t\\t\\t\\t\\t125 lbs (57 kg)               NaN         NaN   \n",
       "11394                              NaN               NaN         NaN   \n",
       "\n",
       "      Piercings: Background:  \n",
       "0            NaN    American  \n",
       "1            NaN         NaN  \n",
       "2            NaN    American  \n",
       "3            NaN    American  \n",
       "4            NaN         NaN  \n",
       "...          ...         ...  \n",
       "11390        NaN         NaN  \n",
       "11391        NaN         NaN  \n",
       "11392        NaN         NaN  \n",
       "11393        NaN         NaN  \n",
       "11394        NaN         NaN  \n",
       "\n",
       "[11395 rows x 8 columns]"
      ]
     },
     "execution_count": 7,
     "metadata": {},
     "output_type": "execute_result"
    }
   ],
   "source": [
    "df"
   ]
  },
  {
   "cell_type": "code",
   "execution_count": 9,
   "id": "7daa9d7b-d161-43a6-8a35-fe499f53fd1b",
   "metadata": {},
   "outputs": [
    {
     "name": "stderr",
     "output_type": "stream",
     "text": [
      "C:\\Users\\Vedant\\AppData\\Local\\Temp\\ipykernel_48400\\3325263341.py:3: FutureWarning: A value is trying to be set on a copy of a DataFrame or Series through chained assignment using an inplace method.\n",
      "The behavior will change in pandas 3.0. This inplace method will never work because the intermediate object on which we are setting values always behaves as a copy.\n",
      "\n",
      "For example, when doing 'df[col].method(value, inplace=True)', try using 'df.method({col: value}, inplace=True)' or df[col] = df[col].method(value) instead, to perform the operation inplace on the original object.\n",
      "\n",
      "\n",
      "  df['Age:'].fillna(mean_age, inplace=True)\n"
     ]
    }
   ],
   "source": [
    "mean_age = df['Age:'].mean()\n",
    "\n",
    "df['Age:'].fillna(mean_age, inplace=True)"
   ]
  },
  {
   "cell_type": "code",
   "execution_count": 19,
   "id": "79f7221c-91fa-4059-b252-b1ac5614f3cd",
   "metadata": {},
   "outputs": [],
   "source": [
    "def extract_number_before_cm(height_str):\n",
    "    if isinstance(height_str, str):  # Ensure the input is a string\n",
    "        # Find the number before \"cm\"\n",
    "        match = re.search(r'(\\d+)\\s*cm', height_str)\n",
    "        if match:\n",
    "            return int(match.group(1))\n",
    "    # Return None if no match or if the input is not a string\n",
    "    return None"
   ]
  },
  {
   "cell_type": "code",
   "execution_count": 21,
   "id": "780a7918-a54b-4e1a-94e6-af1d67137102",
   "metadata": {},
   "outputs": [],
   "source": [
    "df['Height'] = df['Height:'].apply(extract_number_before_cm)\n",
    "df = df.drop(columns=['Height:'])"
   ]
  },
  {
   "cell_type": "code",
   "execution_count": 23,
   "id": "d5d1c798-e32f-4ac9-8034-c8b662d87b97",
   "metadata": {},
   "outputs": [],
   "source": [
    "mean_height = df['Height'].mean()\n",
    "df['Height'] = df['Height'].fillna(mean_height)\n"
   ]
  },
  {
   "cell_type": "code",
   "execution_count": 25,
   "id": "682b0cf6-33f3-4cca-87e1-44a90292c07b",
   "metadata": {},
   "outputs": [],
   "source": [
    "def extract_number_before_kg(weight_str):\n",
    "    if isinstance(weight_str, str):  # Ensure the input is a string\n",
    "        # Find the number before \"kg\"\n",
    "        match = re.search(r'(\\d+)\\s*kg', weight_str)\n",
    "        if match:\n",
    "            return int(match.group(1))\n",
    "    # Return None if no match or if the input is not a string\n",
    "    return None"
   ]
  },
  {
   "cell_type": "code",
   "execution_count": 27,
   "id": "e26dce7a-aaf2-4c05-98a8-46cbc52059c1",
   "metadata": {},
   "outputs": [],
   "source": [
    "df['Weight'] = df['Weight:'].apply(extract_number_before_kg)\n",
    "\n",
    "# Drop the 'Weight:' column\n",
    "df = df.drop(columns=['Weight:'])"
   ]
  },
  {
   "cell_type": "code",
   "execution_count": 29,
   "id": "975ef546-350a-486f-b774-33df5140b152",
   "metadata": {},
   "outputs": [],
   "source": [
    "mean_weight = df['Weight'].mean()\n",
    "df['Weight'] = df['Weight'].fillna(mean_weight)"
   ]
  },
  {
   "cell_type": "code",
   "execution_count": 31,
   "id": "3ad62204-9bb0-4b7c-a627-0bbf02f4a80c",
   "metadata": {},
   "outputs": [],
   "source": [
    "valid_categories = {'Brunette', 'Blonde', 'Black', 'Red'}\n",
    "\n",
    "# Function to clean and normalize hair color values\n",
    "def normalize_hair_color(hair_color):\n",
    "    if pd.isna(hair_color):\n",
    "        return np.nan\n",
    "    # Split by commas and strip whitespace, then filter valid categories\n",
    "    colors = [color.strip() for color in hair_color.split(',')]\n",
    "    # Return the first valid color found, or NaN if none match\n",
    "    for color in colors:\n",
    "        if color in valid_categories:\n",
    "            return color\n",
    "    return np.nan"
   ]
  },
  {
   "cell_type": "code",
   "execution_count": 33,
   "id": "97d5b178-6f42-4839-a450-2e63d700e75b",
   "metadata": {},
   "outputs": [],
   "source": [
    "df['Hair Color:'] = df['Hair Color:'].apply(normalize_hair_color)"
   ]
  },
  {
   "cell_type": "code",
   "execution_count": 35,
   "id": "47cd0b97-3aba-4dc5-84a8-e5ce31833b1a",
   "metadata": {},
   "outputs": [],
   "source": [
    "df[\"Hair Color:\"] = df[\"Hair Color:\"].fillna(\"Other\")"
   ]
  },
  {
   "cell_type": "code",
   "execution_count": 37,
   "id": "db259fbb-c8c4-4b25-b503-3095f3a7c050",
   "metadata": {},
   "outputs": [],
   "source": [
    "df[\"Fake Boobs:\"] = df[\"Fake Boobs:\"].fillna(\"No\")"
   ]
  },
  {
   "cell_type": "code",
   "execution_count": 39,
   "id": "aa26e340-cd8f-4791-8ebf-6c827ad7d96a",
   "metadata": {},
   "outputs": [],
   "source": [
    "valid_categories = {'No', 'Yes'}\n",
    "\n",
    "# Function to clean and normalize 'Fake Boobs:' values\n",
    "def normalize_fake_boobs(fake_boobs):\n",
    "    if pd.isna(fake_boobs):\n",
    "        return np.nan\n",
    "    # Return the value if it matches one of the valid categories, otherwise return NaN\n",
    "    if fake_boobs in valid_categories:\n",
    "        return fake_boobs\n",
    "    return np.nan"
   ]
  },
  {
   "cell_type": "code",
   "execution_count": 41,
   "id": "baaba20e-195d-40e6-bd2a-3cf67030391c",
   "metadata": {},
   "outputs": [],
   "source": [
    "df['Fake Boobs:'] = df['Fake Boobs:'].apply(normalize_fake_boobs)\n",
    "df['Fake Boobs:'] = df['Fake Boobs:'].fillna(\"No\")"
   ]
  },
  {
   "cell_type": "code",
   "execution_count": 43,
   "id": "a450fa24-cd6a-4896-88ec-9f12d6112e9c",
   "metadata": {},
   "outputs": [],
   "source": [
    "valid_categories = {'Yes', 'No'}\n",
    "\n",
    "# Function to clean and normalize 'Piercings:' values\n",
    "def normalize_piercings(piercings):\n",
    "    if pd.isna(piercings):\n",
    "        return np.nan\n",
    "    # Return 'Yes' or 'No' if it matches one of the valid categories, otherwise return 'No'\n",
    "    if piercings in valid_categories:\n",
    "        return piercings\n",
    "    return 'No'"
   ]
  },
  {
   "cell_type": "code",
   "execution_count": 45,
   "id": "8f72b94d-c7b0-419b-953c-bb08677c975b",
   "metadata": {},
   "outputs": [],
   "source": [
    "df['Piercings:'] = df['Piercings:'].apply(normalize_piercings)\n",
    "df['Piercings:'] = df['Piercings:'].fillna(\"No\")"
   ]
  },
  {
   "cell_type": "code",
   "execution_count": 52,
   "id": "76e2b409-c4a4-4b8f-8d54-2b5c7841475e",
   "metadata": {},
   "outputs": [],
   "source": [
    "df['Background:'] = df['Background:'].fillna('Other')"
   ]
  },
  {
   "cell_type": "code",
   "execution_count": 66,
   "id": "ed12d9a2-a95d-43da-9eee-b3a4a530815b",
   "metadata": {},
   "outputs": [],
   "source": [
    "df.to_csv(\"Final.csv\",index = False)"
   ]
  },
  {
   "cell_type": "code",
   "execution_count": 70,
   "id": "0f0d8207-83be-427d-be7a-0c5677e9fb84",
   "metadata": {},
   "outputs": [],
   "source": [
    "import pickle\n",
    "import pandas as pd\n",
    "from sklearn.preprocessing import LabelEncoder, StandardScaler"
   ]
  },
  {
   "cell_type": "code",
   "execution_count": 72,
   "id": "8a3033ab-4155-4195-9fe1-2c6a184efc32",
   "metadata": {},
   "outputs": [],
   "source": [
    "data = df"
   ]
  },
  {
   "cell_type": "code",
   "execution_count": 74,
   "id": "accc47ed-4507-49d0-b913-2b5bcb8fbd4f",
   "metadata": {},
   "outputs": [],
   "source": [
    "label_encoders = {}\n",
    "for column in ['Hair Color:', 'Fake Boobs:', 'Piercings:', 'Background:']:\n",
    "    le = LabelEncoder()\n",
    "    data[column] = le.fit_transform(data[column])\n",
    "    label_encoders[column] = le"
   ]
  },
  {
   "cell_type": "code",
   "execution_count": 78,
   "id": "a4e09a8b-683c-4470-a48e-9b46964469b0",
   "metadata": {},
   "outputs": [],
   "source": [
    "with open('label_encoders.pkl', 'wb') as le_file:\n",
    "    pickle.dump(label_encoders, le_file)"
   ]
  },
  {
   "cell_type": "code",
   "execution_count": null,
   "id": "a1343cb3-a897-408a-ad67-f5a225e9b9f7",
   "metadata": {},
   "outputs": [],
   "source": []
  }
 ],
 "metadata": {
  "kernelspec": {
   "display_name": "Python 3 (ipykernel)",
   "language": "python",
   "name": "python3"
  },
  "language_info": {
   "codemirror_mode": {
    "name": "ipython",
    "version": 3
   },
   "file_extension": ".py",
   "mimetype": "text/x-python",
   "name": "python",
   "nbconvert_exporter": "python",
   "pygments_lexer": "ipython3",
   "version": "3.12.4"
  }
 },
 "nbformat": 4,
 "nbformat_minor": 5
}
